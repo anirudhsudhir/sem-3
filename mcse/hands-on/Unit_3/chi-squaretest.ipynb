{
 "cells": [
  {
   "cell_type": "code",
   "execution_count": 1,
   "metadata": {},
   "outputs": [
    {
     "name": "stdout",
     "output_type": "stream",
     "text": [
      "p value is0.1031971404730939\n",
      "Independent (H0 holds true)\n"
     ]
    }
   ],
   "source": [
    "from scipy.stats import chi2_contingency #defining the table\n",
    "data= [[207,282,241],[234,242,232]]\n",
    "\n",
    "stat ,p,dof,expected=chi2_contingency(data) #interpret p-value\n",
    "\n",
    "alpha=0.05\n",
    "print(\"p value is\" +str(p))\n",
    "if p<=alpha:\n",
    "    print('Dependent(reject H0)')\n",
    "else:\n",
    "    print('Independent (H0 holds true)')"
   ]
  },
  {
   "cell_type": "code",
   "execution_count": 2,
   "metadata": {},
   "outputs": [
    {
     "name": "stdout",
     "output_type": "stream",
     "text": [
      "Chi-squared statistic: 165.32000000000002\n",
      "Critical value at 10% significance level:9.236356899781121\n",
      "p-value: 0.0\n",
      "Reject the null hypothesis: The die is biased\n"
     ]
    }
   ],
   "source": [
    "import numpy as np\n",
    "from scipy.stats import chi2\n",
    "observed=np.array([115,47,41,101,200,96])\n",
    "expected=np.array([100,100,100,100,100,100])\n",
    "chi2_stat=np.sum((observed-expected)**2/expected)\n",
    "df=len(observed)-1\n",
    "critical_value=chi2.ppf(0.90,df)\n",
    "p_value=1-chi2.cdf(chi2_stat,df)\n",
    "print(f\"Chi-squared statistic: {chi2_stat}\")\n",
    "print(f\"Critical value at 10% significance level:{critical_value}\")\n",
    "print(f\"p-value: {p_value}\")\n",
    "#Conclusion\n",
    "if chi2_stat < critical_value:\n",
    "    print(\"Fail to reject the null hypothesis: The die is unbiased\")\n",
    "else:\n",
    "    print(\"Reject the null hypothesis: The die is biased\")"
   ]
  },
  {
   "cell_type": "code",
   "execution_count": 3,
   "metadata": {},
   "outputs": [
    {
     "name": "stdout",
     "output_type": "stream",
     "text": [
      "observed Data:\n",
      "            too thin   ok  Too Thick\n",
      "Machine 1        10  102          8\n",
      "Machine 2        34  161          5\n",
      "Machine 3        12   79          9\n",
      "MAchine 4        10   60         10\n",
      "\n",
      "Chi-Square Statistic: 15.584353328056686\n",
      "P-Value: 0.016167601161494228\n",
      "Degree of freedom: 6\n",
      "Expected frequencies:\n",
      " [[ 15.84  96.48   7.68]\n",
      " [ 26.4  160.8   12.8 ]\n",
      " [ 13.2   80.4    6.4 ]\n",
      " [ 10.56  64.32   5.12]]\n",
      "Reject the null hypothesis:there is significant diffeerence\n"
     ]
    }
   ],
   "source": [
    "import numpy as np\n",
    "import pandas as pd\n",
    "from scipy.stats import chi2_contingency\n",
    "data=np.array([\n",
    "    [10,102,8], #Machine 1\n",
    "    [34,161,5], #Machine 2\n",
    "    [12,79,9],  #Machine 3\n",
    "    [10,60,10], #Machine 4\n",
    "])\n",
    "df=pd.DataFrame(data,columns=['too thin','ok','Too Thick'],\n",
    "index=['Machine 1','Machine 2','Machine 3','MAchine 4'])\n",
    "print(\"observed Data:\\n\",df)\n",
    "chi2_stat,p_value,dof,expected=chi2_contingency(data)\n",
    "print(\"\\nChi-Square Statistic:\",chi2_stat)\n",
    "print(\"P-Value:\",p_value)\n",
    "print(\"Degree of freedom:\",dof)\n",
    "print(\"Expected frequencies:\\n\",expected)\n",
    "alpha=0.05\n",
    "if chi2_stat>chi2.ppf(1-alpha,dof):\n",
    "    print(\"Reject the null hypothesis:there is significant diffeerence\")\n",
    "else:\n",
    "    print(\"Fail to reject null hypothesis: there is no significant difference\")"
   ]
  },
  {
   "cell_type": "code",
   "execution_count": 4,
   "metadata": {},
   "outputs": [
    {
     "name": "stdout",
     "output_type": "stream",
     "text": [
      "Contingency Table:\n",
      "                 Recovered  Not recovered\n",
      "Vaccinated            150             30\n",
      "Not Vaccinated         80             40\n",
      "\n",
      "Chi-Square Statistic: 10.267857142857142\n",
      "P-Value: 0.0013536793727780049\n",
      "Degree of freedom: 1\n",
      "Expected frequencies:\n",
      " [[138.  42.]\n",
      " [ 92.  28.]]\n",
      "Reject the null hypothesis:there is significant association between vaccine\n"
     ]
    },
    {
     "data": {
      "image/png": "[encoded data removed]",
      "text/plain": [
       "<Figure size 800x500 with 1 Axes>"
      ]
     },
     "metadata": {},
     "output_type": "display_data"
    }
   ],
   "source": [
    "import numpy as np\n",
    "import pandas as pd\n",
    "from scipy.stats import chi2_contingency\n",
    "import matplotlib.pyplot as plt\n",
    "data=np.array([\n",
    "    [150,30], #Vaccinated\n",
    "    [80,40], #Not Vaccinated\n",
    "])\n",
    "contingency_table=pd.DataFrame(data,\n",
    "        columns=['Recovered','Not recovered'],\n",
    "        index=['Vaccinated','Not Vaccinated'])\n",
    "print(\"Contingency Table:\\n\",contingency_table)\n",
    "chi2_stat,p_value,dof,expected=chi2_contingency(data)\n",
    "print(\"\\nChi-Square Statistic:\",chi2_stat)\n",
    "print(\"P-Value:\",p_value)\n",
    "print(\"Degree of freedom:\",dof)\n",
    "print(\"Expected frequencies:\\n\",expected)\n",
    "alpha=0.05\n",
    "if p_value<alpha:\n",
    "    print(\"Reject the null hypothesis:there is significant association between vaccine\")\n",
    "else:\n",
    "    print(\"Fail to reject null hypothesis: there is no significant association between vaccine\")\n",
    "plt.figure(figsize=(8,5))\n",
    "plt.title(\"Vaccination vs Recovery Status\")\n",
    "plt.bar(['Vaccinated','Not Vaccinated'],[150,80], label='Recovered',color='lightBlue')\n",
    "plt.bar(['Vaccinated','Not Vaccinated'],[30,40], label=' Not Recovered',color='salmon', bottom=[150,80])\n",
    "plt.ylabel('Number of Patients')\n",
    "plt.legend()\n",
    "plt.grid(axis='y')\n",
    "plt.show()"
   ]
  },
  {
   "cell_type": "code",
   "execution_count": 5,
   "metadata": {},
   "outputs": [],
   "source": [
    "%matplotlib inline\n",
    "import matplotlib.pyplot as plt\n",
    "import pandas as pd\n",
    "import numpy as np\n",
    "from math import sqrt\n",
    "from scipy.stats import norm\n",
    "import random\n"
   ]
  }
 ],
 "metadata": {
  "kernelspec": {
   "display_name": "venv",
   "language": "python",
   "name": "python3"
  },
  "language_info": {
   "codemirror_mode": {
    "name": "ipython",
    "version": 3
   },
   "file_extension": ".py",
   "mimetype": "text/x-python",
   "name": "python",
   "nbconvert_exporter": "python",
   "pygments_lexer": "ipython3",
   "version": "3.12.5"
  }
 },
 "nbformat": 4,
 "nbformat_minor": 2
}
