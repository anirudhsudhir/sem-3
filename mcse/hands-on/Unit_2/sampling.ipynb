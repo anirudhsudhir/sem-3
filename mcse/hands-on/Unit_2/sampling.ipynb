{
 "cells": [
  {
   "cell_type": "code",
   "execution_count": 1,
   "metadata": {},
   "outputs": [],
   "source": [
    "import csv\n",
    "import pandas as pd\n",
    "from random import sample\n",
    "df=pd.read_csv('train.csv')"
   ]
  },
  {
   "cell_type": "code",
   "execution_count": 2,
   "metadata": {},
   "outputs": [
    {
     "name": "stdout",
     "output_type": "stream",
     "text": [
      "[230, 511, 72, 482, 336, 525, 512, 493, 250, 32]\n",
      "      Loan_ID  Gender Married Dependents     Education Self_Employed  \\\n",
      "230  LP001765    Male     Yes          1      Graduate            No   \n",
      "511  LP002640    Male     Yes          1      Graduate            No   \n",
      "72   LP001248    Male      No          0      Graduate            No   \n",
      "482  LP002537    Male     Yes          0      Graduate            No   \n",
      "336  LP002110    Male     Yes          1      Graduate           NaN   \n",
      "525  LP002699    Male     Yes          2      Graduate           Yes   \n",
      "512  LP002643    Male     Yes          2      Graduate            No   \n",
      "493  LP002582  Female      No          0  Not Graduate           Yes   \n",
      "250  LP001835    Male     Yes          0  Not Graduate            No   \n",
      "32   LP001097    Male      No          1      Graduate           Yes   \n",
      "\n",
      "     ApplicantIncome  CoapplicantIncome  LoanAmount  Loan_Amount_Term  \\\n",
      "230             2491             2054.0       104.0             360.0   \n",
      "511             6065             2004.0       250.0             360.0   \n",
      "72              3500                0.0        81.0             300.0   \n",
      "482             2083             3150.0       128.0             360.0   \n",
      "336             5250              688.0       160.0             360.0   \n",
      "525            17500                0.0       400.0             360.0   \n",
      "512             3283             2035.0       148.0             360.0   \n",
      "493            17263                0.0       225.0             360.0   \n",
      "250             1668             3890.0       201.0             360.0   \n",
      "32              4692                0.0       106.0             360.0   \n",
      "\n",
      "     Credit_History Property_Area Loan_Status  \n",
      "230             1.0     Semiurban           Y  \n",
      "511             1.0     Semiurban           Y  \n",
      "72              1.0     Semiurban           Y  \n",
      "482             1.0     Semiurban           Y  \n",
      "336             1.0         Rural           Y  \n",
      "525             1.0         Rural           Y  \n",
      "512             1.0         Urban           Y  \n",
      "493             1.0     Semiurban           Y  \n",
      "250             0.0     Semiurban           N  \n",
      "32              1.0         Rural           N  \n"
     ]
    }
   ],
   "source": [
    "#simple random sampling\n",
    "no_of_elements=10\n",
    "random_index=sample(range(df.shape[0]),no_of_elements)\n",
    "print(random_index)\n",
    "print(df.iloc[random_index])\n"
   ]
  },
  {
   "cell_type": "code",
   "execution_count": 3,
   "metadata": {},
   "outputs": [
    {
     "name": "stdout",
     "output_type": "stream",
     "text": [
      "      Loan_ID  Gender Married Dependents     Education Self_Employed  \\\n",
      "0    LP001002    Male      No          0      Graduate            No   \n",
      "100  LP001345    Male     Yes          2  Not Graduate            No   \n",
      "200  LP001674    Male     Yes          1  Not Graduate            No   \n",
      "300  LP001964    Male     Yes          0  Not Graduate            No   \n",
      "400  LP002288    Male     Yes          2  Not Graduate            No   \n",
      "500  LP002603  Female      No          0      Graduate            No   \n",
      "600  LP002949  Female      No         3+      Graduate           NaN   \n",
      "\n",
      "     ApplicantIncome  CoapplicantIncome  LoanAmount  Loan_Amount_Term  \\\n",
      "0               5849                0.0         NaN             360.0   \n",
      "100             4288             3263.0       133.0             180.0   \n",
      "200             2600             2500.0        90.0             360.0   \n",
      "300             1800             2934.0        93.0             360.0   \n",
      "400             2889                0.0        45.0             180.0   \n",
      "500              645             3683.0       113.0             480.0   \n",
      "600              416            41667.0       350.0             180.0   \n",
      "\n",
      "     Credit_History Property_Area Loan_Status  \n",
      "0               1.0         Urban           Y  \n",
      "100             1.0         Urban           Y  \n",
      "200             1.0     Semiurban           Y  \n",
      "300             0.0         Urban           N  \n",
      "400             0.0         Urban           N  \n",
      "500             1.0         Rural           Y  \n",
      "600             NaN         Urban           N  \n"
     ]
    }
   ],
   "source": [
    "#systematic sampling\n",
    "Kth=100\n",
    "index=[i for i in range(df.shape[0]) if i%Kth==0]\n",
    "print(df.iloc[index])"
   ]
  },
  {
   "cell_type": "code",
   "execution_count": 7,
   "metadata": {},
   "outputs": [
    {
     "name": "stdout",
     "output_type": "stream",
     "text": [
      "stratas: ['Graduate', 'Not Graduate'] \n",
      "\n",
      "      Loan_ID  Gender Married Dependents     Education Self_Employed  \\\n",
      "364  LP002180    Male      No          0      Graduate           Yes   \n",
      "180  LP001633    Male     Yes          1      Graduate            No   \n",
      "456  LP002459    Male     Yes          0      Graduate            No   \n",
      "2    LP001005    Male     Yes          0      Graduate           Yes   \n",
      "315  LP002031    Male     Yes          1  Not Graduate            No   \n",
      "170  LP001581    Male     Yes          0  Not Graduate           NaN   \n",
      "400  LP002288    Male     Yes          2  Not Graduate            No   \n",
      "480  LP002534  Female      No          0  Not Graduate            No   \n",
      "\n",
      "     ApplicantIncome  CoapplicantIncome  LoanAmount  Loan_Amount_Term  \\\n",
      "364             6822                0.0       141.0             360.0   \n",
      "180             6400             7250.0       180.0             360.0   \n",
      "456             4301                0.0       118.0             360.0   \n",
      "2               3000                0.0        66.0             360.0   \n",
      "315             3399             1640.0       111.0             180.0   \n",
      "170             1820             1769.0        95.0             360.0   \n",
      "400             2889                0.0        45.0             180.0   \n",
      "480             4350                0.0       154.0             360.0   \n",
      "\n",
      "     Credit_History Property_Area Loan_Status  \n",
      "364             1.0         Rural           Y  \n",
      "180             0.0         Urban           N  \n",
      "456             1.0         Urban           Y  \n",
      "2               1.0         Urban           Y  \n",
      "315             1.0         Urban           Y  \n",
      "170             1.0         Rural           Y  \n",
      "400             0.0         Urban           N  \n",
      "480             1.0         Rural           Y  \n"
     ]
    }
   ],
   "source": [
    "#stratified sampling\n",
    "#stratas formed based on education\n",
    "no_of_elements=4   #number of elements in each strata\n",
    "unique=list(set(df['Education']))\n",
    "print('stratas:',unique,'\\n')\n",
    "index_set=[sample(list(df.index[df['Education']==i]),no_of_elements) for i in unique]\n",
    "index=[j for i in index_set for j in i]\n",
    "print(df.iloc[index])"
   ]
  },
  {
   "cell_type": "code",
   "execution_count": 14,
   "metadata": {},
   "outputs": [
    {
     "name": "stdout",
     "output_type": "stream",
     "text": [
      "clusters: ['0', '2', '3+', nan, '1'] selected out of : ['0', nan, '3+', '1', '2'] \n",
      "\n",
      "      Loan_ID  Gender Married Dependents     Education Self_Employed  \\\n",
      "0    LP001002    Male      No          0      Graduate            No   \n",
      "2    LP001005    Male     Yes          0      Graduate           Yes   \n",
      "3    LP001006    Male     Yes          0  Not Graduate            No   \n",
      "4    LP001008    Male      No          0      Graduate            No   \n",
      "6    LP001013    Male     Yes          0  Not Graduate            No   \n",
      "..        ...     ...     ...        ...           ...           ...   \n",
      "584  LP002911    Male     Yes          1      Graduate            No   \n",
      "585  LP002912    Male     Yes          1      Graduate            No   \n",
      "604  LP002959  Female     Yes          1      Graduate            No   \n",
      "606  LP002961    Male     Yes          1      Graduate            No   \n",
      "611  LP002983    Male     Yes          1      Graduate            No   \n",
      "\n",
      "     ApplicantIncome  CoapplicantIncome  LoanAmount  Loan_Amount_Term  \\\n",
      "0               5849                0.0         NaN             360.0   \n",
      "2               3000                0.0        66.0             360.0   \n",
      "3               2583             2358.0       120.0             360.0   \n",
      "4               6000                0.0       141.0             360.0   \n",
      "6               2333             1516.0        95.0             360.0   \n",
      "..               ...                ...         ...               ...   \n",
      "584             2787             1917.0       146.0             360.0   \n",
      "585             4283             3000.0       172.0              84.0   \n",
      "604            12000                0.0       496.0             360.0   \n",
      "606             3400             2500.0       173.0             360.0   \n",
      "611             8072              240.0       253.0             360.0   \n",
      "\n",
      "     Credit_History Property_Area Loan_Status  \n",
      "0               1.0         Urban           Y  \n",
      "2               1.0         Urban           Y  \n",
      "3               1.0         Urban           Y  \n",
      "4               1.0         Urban           Y  \n",
      "6               1.0         Urban           Y  \n",
      "..              ...           ...         ...  \n",
      "584             0.0         Rural           N  \n",
      "585             1.0         Rural           N  \n",
      "604             1.0     Semiurban           Y  \n",
      "606             1.0     Semiurban           Y  \n",
      "611             1.0         Urban           Y  \n",
      "\n",
      "[599 rows x 13 columns]\n"
     ]
    }
   ],
   "source": [
    "#cluster sampling\n",
    "#clusters formed based on number of dependents\n",
    "no_of_clusters=5\n",
    "unique= list(set(df['Dependents']))\n",
    "smp=sample(unique,no_of_clusters)\n",
    "print(\"clusters:\",smp,\"selected out of :\",unique,'\\n')\n",
    "index_set=[list(df.index[df['Dependents']==i]) for i in smp]\n",
    "index=[j for i in index_set for j in i]\n",
    "print(df.iloc[index])"
   ]
  },
  {
   "cell_type": "code",
   "execution_count": null,
   "metadata": {},
   "outputs": [],
   "source": []
  }
 ],
 "metadata": {
  "kernelspec": {
   "display_name": "venv",
   "language": "python",
   "name": "python3"
  },
  "language_info": {
   "codemirror_mode": {
    "name": "ipython",
    "version": 3
   },
   "file_extension": ".py",
   "mimetype": "text/x-python",
   "name": "python",
   "nbconvert_exporter": "python",
   "pygments_lexer": "ipython3",
   "version": "3.13.0"
  }
 },
 "nbformat": 4,
 "nbformat_minor": 2
}
