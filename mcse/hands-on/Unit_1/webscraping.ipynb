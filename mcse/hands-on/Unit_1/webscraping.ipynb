{
 "cells": [
  {
   "cell_type": "code",
   "execution_count": 31,
   "id": "77818b28-6a18-4fb7-8452-fac8cbd4a1ca",
   "metadata": {},
   "outputs": [
    {
     "name": "stdout",
     "output_type": "stream",
     "text": [
      "Customer names found: 13\n",
      "Review titles found: 10\n",
      "Number of unique customers: 11\n",
      "Number of review titles: 10\n",
      "       Customer Name                                       Review Title\n",
      "0             yogesh  5.0 out of 5 stars\\nNutripro Copper Juicer Mix...\n",
      "1           Harsh G.                4.0 out of 5 stars\\nAwesome product\n",
      "2   Rakesh Bhambhani  5.0 out of 5 stars\\nNutriPro Blender Juicer Mi...\n",
      "3       Anukul Anand  5.0 out of 5 stars\\n\"Exceptional Service by Nu...\n",
      "4             Deepak                      4.0 out of 5 stars\\nVery nice\n",
      "5                 AS     5.0 out of 5 stars\\nsuggested for small family\n",
      "6  balaraviteja.mora  5.0 out of 5 stars\\nMind-blowing purchase in m...\n",
      "7       Akarshan Rai   4.0 out of 5 stars\\nExceptional Customer Service\n",
      "8             Monika  4.0 out of 5 stars\\nGood customer service and ...\n",
      "10\n"
     ]
    }
   ],
   "source": [
    "from bs4 import BeautifulSoup as bs \n",
    "import requests as re \n",
    "import pandas as pd \n",
    "\n",
    "link = 'https://www.amazon.in/NutriPro-Bullet-Juicer-Grinder-Blades/product-reviews/B09J2SCVQT' \n",
    "headers = {\n",
    "    'User-Agent': 'Mozilla/5.0 (Windows NT 10.0; Win64; x64) AppleWebKit/537.36 (KHTML, like Gecko) Chrome/91.0.4472.124 Safari/537.36'\n",
    "}\n",
    "page = re.get(link, headers=headers) \n",
    "# print(page) \n",
    "# print(page.content) \n",
    "\n",
    "soup = bs(page.content, 'html.parser') \n",
    "# print(soup.prettify()) \n",
    "\n",
    "name = soup.find_all('span', class_='a-profile-name') \n",
    "print(\"Customer names found:\", len(name))  # Debugging statement\n",
    "cust_name = [] \n",
    "for i in range(len(name)): \n",
    "    cust_name.append(name[i].get_text()) \n",
    "\n",
    "unique_cust_name = [] \n",
    "seen = set() \n",
    "for cust in cust_name: \n",
    "    if cust not in seen: \n",
    "        unique_cust_name.append(cust) \n",
    "        seen.add(cust) \n",
    "\n",
    "title = soup.find_all('a', class_='review-title-content') \n",
    "print(\"Review titles found:\", len(title))  # Debugging statement\n",
    "review_title = [titles.get_text().strip() for titles in title] \n",
    "\n",
    "print(f\"Number of unique customers: {len(unique_cust_name)}\") \n",
    "print(f\"Number of review titles: {len(review_title)}\") \n",
    "\n",
    "min_length = min(len(unique_cust_name), len(review_title))\n",
    "unique_cust_name = unique_cust_name[:min_length] \n",
    "review_title = review_title[:min_length] \n",
    "\n",
    "df = pd.DataFrame() \n",
    "df['Customer Name'] = unique_cust_name \n",
    "df['Review Title'] = review_title \n",
    "print(df.head(9))  # Debugging statement\n",
    "\n",
    "print(min_length)\n",
    "# file_name = 'reviews.xlsx' \n",
    "# df.to_excel(file_name, index=False) \n",
    "# print('DataFrame is written to Excel File successfully')\n"
   ]
  },
  {
   "cell_type": "code",
   "execution_count": null,
   "id": "8fb25254",
   "metadata": {},
   "outputs": [],
   "source": []
  }
 ],
 "metadata": {
  "kernelspec": {
   "display_name": "venv",
   "language": "python",
   "name": "python3"
  },
  "language_info": {
   "codemirror_mode": {
    "name": "ipython",
    "version": 3
   },
   "file_extension": ".py",
   "mimetype": "text/x-python",
   "name": "python",
   "nbconvert_exporter": "python",
   "pygments_lexer": "ipython3",
   "version": "3.12.5"
  }
 },
 "nbformat": 4,
 "nbformat_minor": 5
}
